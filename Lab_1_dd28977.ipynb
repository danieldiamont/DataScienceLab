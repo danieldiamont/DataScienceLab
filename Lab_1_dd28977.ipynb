{
 "cells": [
  {
   "cell_type": "markdown",
   "metadata": {},
   "source": [
    "#Programming Lab 1"
   ]
  },
  {
   "cell_type": "code",
   "execution_count": 3,
   "metadata": {
    "scrolled": true
   },
   "outputs": [],
   "source": [
    "import numpy as np\n",
    "import matplotlib.pyplot as plt\n",
    "import pandas as pd\n",
    "%matplotlib inline"
   ]
  },
  {
   "cell_type": "markdown",
   "metadata": {},
   "source": [
    "##Q1)"
   ]
  },
  {
   "cell_type": "code",
   "execution_count": 4,
   "metadata": {},
   "outputs": [],
   "source": [
    "# Create two normal distributions\n",
    "n1 = np.random.normal(loc = -10, scale = 5, size = 1000)\n",
    "n2 = np.random.normal(loc = 10, scale = 5, size = 1000)\n"
   ]
  },
  {
   "cell_type": "markdown",
   "metadata": {},
   "source": [
    "###a)"
   ]
  },
  {
   "cell_type": "code",
   "execution_count": 8,
   "metadata": {
    "scrolled": true
   },
   "outputs": [
    {
     "data": {
      "image/png": "[encoded data removed]",
      "text/plain": [
       "<Figure size 432x288 with 1 Axes>"
      ]
     },
     "metadata": {
      "needs_background": "light"
     },
     "output_type": "display_data"
    },
    {
     "name": "stdout",
     "output_type": "stream",
     "text": [
      "estimated mean of the new distribution is: -0.06380464358905664\n",
      "estimated variance of the new distribution is: 49.17058315824361\n"
     ]
    }
   ],
   "source": [
    "# take the sum of 2 gaussians by adding two sets of 1000 points, point by point\n",
    "n_sum = n1 + n2\n",
    "\n",
    "# plot in a histogram\n",
    "plt.hist(n_sum)\n",
    "plt.xlabel(\"Value\")\n",
    "plt.ylabel(\"Frequency\")\n",
    "plt.title(\"Histogram of two Gaussian distributions summed together\")\n",
    "plt.show()\n",
    "\n",
    "#estimate mean and variance of sum\n",
    "mean = np.mean(n_sum, dtype=np.float64)\n",
    "print(\"estimated mean of the new distribution is: \" + str(mean))\n",
    "var = np.var(n_sum, dtype=np.float64)\n",
    "print(\"estimated variance of the new distribution is: \" + str(var))"
   ]
  },
  {
   "cell_type": "markdown",
   "metadata": {},
   "source": [
    "##Q2)"
   ]
  },
  {
   "cell_type": "code",
   "execution_count": null,
   "metadata": {},
   "outputs": [],
   "source": [
    "# define Xi random variable (iid Bernoulli ({-1,1})\n",
    "middle = 0.5\n",
    "Xi = np.random.uniform()\n",
    "# hello"
   ]
  }
 ],
 "metadata": {
  "kernelspec": {
   "display_name": "Python 3",
   "language": "python",
   "name": "python3"
  },
  "language_info": {
   "codemirror_mode": {
    "name": "ipython",
    "version": 3
   },
   "file_extension": ".py",
   "mimetype": "text/x-python",
   "name": "python",
   "nbconvert_exporter": "python",
   "pygments_lexer": "ipython3",
   "version": "3.5.2"
  }
 },
 "nbformat": 4,
 "nbformat_minor": 2
}
